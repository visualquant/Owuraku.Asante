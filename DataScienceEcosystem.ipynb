{
 "cells": [
  {
   "cell_type": "markdown",
   "id": "c0d85799",
   "metadata": {},
   "source": [
    "# Data Science Tools and Ecosystem"
   ]
  },
  {
   "cell_type": "markdown",
   "id": "6204bdee",
   "metadata": {},
   "source": [
    "In this notebook, Data Science Tools and Ecosystem are summarized."
   ]
  },
  {
   "cell_type": "markdown",
   "id": "27bdc916",
   "metadata": {},
   "source": [
    "__Objectives:__\n",
    "\n",
    "    - List popular languages for Data Science\n",
    "    - List some commonly used libraries for Data Science\n",
    "    - List few tools used for development Data Science\n",
    "    - List sample math operations\n",
    "    "
   ]
  },
  {
   "cell_type": "markdown",
   "id": "536c76d6",
   "metadata": {},
   "source": [
    "Some of the popular languages that Data Scientists use are:\n",
    "\n",
    "    1. Python\n",
    "    2. R\n",
    "    3. SQL\n",
    "    4. Scala\n",
    "    5. C++\n",
    "    6. Java\n",
    "    "
   ]
  },
  {
   "cell_type": "markdown",
   "id": "2e6a4df1",
   "metadata": {},
   "source": [
    "Some of the commonly used libraries used by Data Scientists include:\n",
    "    \n",
    "    1. Pandas for 2D data frames\n",
    "    2. NumPy for arrays and matrices\n",
    "    3. Matplotlib for Visualization\n",
    "    4. Seaborn for Visualization\n",
    "    5. Scikit-Learn for Machine Learning\n",
    "    6. Keras for Deep Learning\n",
    "    \n",
    "    "
   ]
  },
  {
   "cell_type": "markdown",
   "id": "41efd5b9",
   "metadata": {},
   "source": [
    "| Data Science Tools |\n",
    "| -------------------|\n",
    "| Jupyter Notebook |\n",
    "| Jupyter Lab |\n",
    "| R Studio |\n",
    "| Spyder |\n",
    "| Appache Zeppelin |"
   ]
  },
  {
   "cell_type": "markdown",
   "id": "bc02972c",
   "metadata": {},
   "source": [
    "### Below are a few examples of evaluating arithmetic expressions in Python"
   ]
  },
  {
   "cell_type": "code",
   "execution_count": 20,
   "id": "3e060668",
   "metadata": {},
   "outputs": [
    {
     "data": {
      "text/plain": [
       "17"
      ]
     },
     "execution_count": 20,
     "metadata": {},
     "output_type": "execute_result"
    }
   ],
   "source": [
    "#This a simple arithmetic expression to mutiply then add integers\n",
    "(3*4)+5"
   ]
  },
  {
   "cell_type": "code",
   "execution_count": 22,
   "id": "8970a4d9",
   "metadata": {},
   "outputs": [
    {
     "data": {
      "text/plain": [
       "3.3333333333333335"
      ]
     },
     "execution_count": 22,
     "metadata": {},
     "output_type": "execute_result"
    }
   ],
   "source": [
    " # This will convert 200 minutes to hours by diving by 60\n",
    "200 / 60"
   ]
  },
  {
   "cell_type": "markdown",
   "id": "5aa6383d",
   "metadata": {},
   "source": [
    "## Author\n",
    "J. K. Asante"
   ]
  },
  {
   "cell_type": "code",
   "execution_count": null,
   "id": "a57457ed",
   "metadata": {},
   "outputs": [],
   "source": []
  }
 ],
 "metadata": {
  "kernelspec": {
   "display_name": "Python 3 (ipykernel)",
   "language": "python",
   "name": "python3"
  },
  "language_info": {
   "codemirror_mode": {
    "name": "ipython",
    "version": 3
   },
   "file_extension": ".py",
   "mimetype": "text/x-python",
   "name": "python",
   "nbconvert_exporter": "python",
   "pygments_lexer": "ipython3",
   "version": "3.10.8"
  }
 },
 "nbformat": 4,
 "nbformat_minor": 5
}
